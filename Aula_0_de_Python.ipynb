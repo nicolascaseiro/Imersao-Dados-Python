{
  "nbformat": 4,
  "nbformat_minor": 0,
  "metadata": {
    "colab": {
      "provenance": [],
      "authorship_tag": "ABX9TyNMUA89RoOSaKjEj3kvBfGY",
      "include_colab_link": true
    },
    "kernelspec": {
      "name": "python3",
      "display_name": "Python 3"
    },
    "language_info": {
      "name": "python"
    }
  },
  "cells": [
    {
      "cell_type": "markdown",
      "metadata": {
        "id": "view-in-github",
        "colab_type": "text"
      },
      "source": [
        "<a href=\"https://colab.research.google.com/github/nicolascaseiro/Imersao-Dados-Python/blob/main/Aula_0_de_Python.ipynb\" target=\"_parent\"><img src=\"https://colab.research.google.com/assets/colab-badge.svg\" alt=\"Open In Colab\"/></a>"
      ]
    },
    {
      "cell_type": "code",
      "execution_count": 6,
      "metadata": {
        "colab": {
          "base_uri": "https://localhost:8080/"
        },
        "id": "Gn1sST4N2x5U",
        "outputId": "a90221a4-e173-49ee-f5a2-e1fce1eacb1a"
      },
      "outputs": [
        {
          "output_type": "stream",
          "name": "stdout",
          "text": [
            "Boas vindas a aula de Python\n",
            "Nicolas roxo\n",
            "Saldo na sua conta: R$ 7000\n"
          ]
        }
      ],
      "source": [
        "'roxo'\n",
        "'Nicolas'\n",
        "'OutKast'\n",
        "\n",
        "print('Boas vindas a aula de Python')\n",
        "\n",
        "nome = 'Nicolas'\n",
        "cor_favorita = 'roxo'\n",
        "print(nome, cor_favorita)\n",
        "\n",
        "saldo = 5000\n",
        "saldo = saldo + 2000\n",
        "print('Saldo na sua conta: R$', saldo)\n",
        "\n",
        "saldo = saldo * 2\n",
        "\n",
        "import this\n",
        "\n",
        "idade = 18\n",
        "\n",
        "# se idade for maior que 18\n",
        "if idade >= 18:\n",
        "    print('Pode dirigir')\n",
        "# senão\n",
        "else:\n",
        "    print('Não pode dirigir')\n",
        "\n",
        "# isso é um comentário\n"
      ]
    }
  ]
}